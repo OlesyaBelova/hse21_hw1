{
 "cells": [
  {
   "cell_type": "code",
   "execution_count": 1,
   "metadata": {},
   "outputs": [],
   "source": [
    "import numpy as np"
   ]
  },
  {
   "cell_type": "markdown",
   "metadata": {},
   "source": [
    "Проанализируем информацию о полученных контигах"
   ]
  },
  {
   "cell_type": "code",
   "execution_count": 3,
   "metadata": {},
   "outputs": [
    {
     "name": "stdout",
     "output_type": "stream",
     "text": [
      "Всего контигов: 641\n",
      "Общая длина: 3928906\n",
      "Наибольшая длина контига: 179307\n",
      "N50: 56939\n"
     ]
    }
   ],
   "source": [
    "file1 = open('contigs.fa', 'r')\n",
    "text = file1.read()\n",
    "c = text.count('>')\n",
    "lines = np.array(text.split('\\n'))\n",
    "l = np.array([int(line[1].split('_')[0]) for line in np.char.split(lines[np.char.startswith(lines, '>')], 'len')])\n",
    "full_l = np.cumsum(np.sort(l)[::-1])\n",
    "N50 = np.sort(l)[::-1][full_l.shape[0] - full_l[full_l >= l.sum() / 2].shape[0]]\n",
    "print(\"Всего контигов:\", c)\n",
    "print(\"Общая длина:\", l.sum())\n",
    "print(\"Наибольшая длина контига:\", l.max())\n",
    "print(\"N50:\", N50)"
   ]
  },
  {
   "cell_type": "markdown",
   "metadata": {},
   "source": [
    "Теперь проделаем всё то же самое для скаффолдов"
   ]
  },
  {
   "cell_type": "code",
   "execution_count": 13,
   "metadata": {},
   "outputs": [
    {
     "name": "stdout",
     "output_type": "stream",
     "text": [
      "Всего скаффолдов: 74\n",
      "Общая длина: 3876065\n",
      "Наибольший скаффолд: 3836062\n",
      "N50: 3836062\n"
     ]
    }
   ],
   "source": [
    "file2 = open('raw_scaffold.fa', 'r')\n",
    "text_s = file2.read()\n",
    "s2 = text_s.count('>')\n",
    "lines2 = np.array(text_s.split('\\n'))\n",
    "l2 = np.array([int(line[1].split('_')[0]) for line in np.char.split(lines2[np.char.startswith(lines2, '>')], 'len')])\n",
    "full_ls = np.cumsum(np.sort(l2)[::-1])\n",
    "N50 = np.sort(l2)[::-1][full_ls.shape[0] - full_ls[full_ls >= l2.sum() / 2].shape[0]]\n",
    "print(\"Всего скаффолдов:\", s2)\n",
    "print(\"Общая длина:\", l2.sum())\n",
    "print(\"Наибольший скаффолд:\", l2.max())\n",
    "print(\"N50:\", N50)"
   ]
  },
  {
   "cell_type": "markdown",
   "metadata": {},
   "source": [
    "Найдём теперь наиболее длинный скаффолд и проанализируем его"
   ]
  },
  {
   "cell_type": "code",
   "execution_count": 10,
   "metadata": {},
   "outputs": [
    {
     "name": "stdout",
     "output_type": "stream",
     "text": [
      "Кол-во гэпов в самом длинном скаффолде: 151\n"
     ]
    }
   ],
   "source": [
    "import re\n",
    "longest = np.array(text_s.split('>'))[np.char.find(np.array(text_s.split('>')), 'len' + str(l2.max())) > 0][0]\n",
    "print(\"Кол-во гэпов в самом длинном скаффолде:\", len(re.findall('[AGCT\\n]{1}N', longest)))"
   ]
  }
 ],
 "metadata": {
  "kernelspec": {
   "display_name": "Python 3",
   "language": "python",
   "name": "python3"
  },
  "language_info": {
   "codemirror_mode": {
    "name": "ipython",
    "version": 3
   },
   "file_extension": ".py",
   "mimetype": "text/x-python",
   "name": "python",
   "nbconvert_exporter": "python",
   "pygments_lexer": "ipython3",
   "version": "3.8.5"
  }
 },
 "nbformat": 4,
 "nbformat_minor": 4
}
